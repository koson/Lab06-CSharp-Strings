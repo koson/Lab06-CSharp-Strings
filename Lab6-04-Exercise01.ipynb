{
 "cells": [
  {
   "cell_type": "markdown",
   "metadata": {},
   "source": [
    "# Lab 6 Exercise 1"
   ]
  },
  {
   "cell_type": "markdown",
   "metadata": {},
   "source": [
    "## การใช้งานคำสั่ง   Console.WriteLine() และ Console.ReadLine()"
   ]
  },
  {
   "cell_type": "markdown",
   "metadata": {},
   "source": [
    "### กล่าวนำ"
   ]
  },
  {
   "cell_type": "markdown",
   "metadata": {},
   "source": [
    "คำสั่ง `Console.WriteLine` ใช้สำหรับพิมพ์ข้อความหรือค่าตัวแปรต่างๆ ออกไปยังคอนโซล (หน้าต่างแสดงผล) โดยจะพิมพ์ข้อความตามที่กำหนดและขึ้นบรรทัดใหม่หลังจากพิมพ์เสร็จ ซึ่งทำให้ข้อความถัดไปที่พิมพ์ออกมาจะอยู่ในบรรทัดใหม่\n",
    "\n",
    "__ตัวอย่างการใช้งาน__\n",
    "\n",
    "พิมพ์ข้อความธรรมดา\n",
    "\n",
    "> ``` csharp\n",
    "> Console.WriteLine(\"Hello, World!\");\n",
    "> ```\n",
    "  \n",
    "\n",
    "พิมพ์ค่าตัวแปร\n",
    "\n",
    "> ``` csharp\n",
    "> Console.WriteLine(variableName);\n",
    "> ```\n",
    "\n",
    " \n",
    "พิมพ์ข้อความพร้อมตัวแปร\n",
    "\n",
    "> ``` csharp\n",
    "> Console.WriteLine(\"The value is: \" + variableName);\n",
    "> ```"
   ]
  },
  {
   "cell_type": "markdown",
   "metadata": {},
   "source": [
    "คำสั่ง `Console.ReadLine`  ใช้สำหรับรับข้อมูลจากผู้ใช้ผ่านทางคอนโซล (หน้าต่างแสดงผล) โดยจะรอให้ผู้ใช้พิมพ์ข้อความหรือข้อมูลใดๆ แล้วกด Enter จากนั้นจะคืนค่าข้อความที่ผู้ใช้พิมพ์เข้ามาในรูปแบบของสตริง (string)\n",
    "\n",
    "__ตัวอย่างการใช้งาน__\n",
    "\n",
    "รับข้อมูลจากผู้ใช้และเก็บไว้ในตัวแปร \n",
    "\n",
    "> ``` csharp\n",
    "> string input = Console.ReadLine();\n",
    "> ```"
   ]
  },
  {
   "cell_type": "markdown",
   "metadata": {},
   "source": [
    "## การปฏิบัติ"
   ]
  },
  {
   "cell_type": "markdown",
   "metadata": {},
   "source": [
    "### คำแนะนำ\n",
    "เพื่อความสะดวกในการสร้างและรันโปรแกรม ในใบงานต่อจากนี้ เราจะไม่ทำการย้าย directory เข้า-ออก ระหว่าง project ของใบงานต่าง ๆ เนื่องจากอาจจะเกิดการสับสนและสร้างโปรเจคไว้ผิดที่ ทำให้โปรเจคซ้อนกันอยู่ใน  folder  ของโปรเจคอื่น ทำให้เกิด error ต่างๆ ตามมาอีกมากมาย\n",
    "\n",
    "การสร้างและ run โปรเจคจึงให้ทำจากตำแหน่งเดียวกันคือที่โฟลเดอร์หลัก แล้วอาศัยการสั่งด้วยชื่อของโปรเจคลงไปในคำสั่ง new, build และ run  (ดังตัวอย่างในการทดลองข้อ 1 และ 3 ด้านล่างนี้)"
   ]
  },
  {
   "cell_type": "markdown",
   "metadata": {},
   "source": [
    "1. สร้าง project ใหม่"
   ]
  },
  {
   "cell_type": "markdown",
   "metadata": {},
   "source": [
    "\n",
    "```\n",
    "    dotnet new console -n Lab06_Exercise01\n",
    "```\n"
   ]
  },
  {
   "cell_type": "markdown",
   "metadata": {},
   "source": [
    "2. แก้ไข code ใน Program.cs เป็นดังนี้\n",
    "\n",
    "> ```c#\n",
    ">   System.Console.WriteLine(\"Hello, I'm 6x03xxxx\");\n",
    ">   System.Console.WriteLine(\"Please enter your name\");\n",
    ">   var name = System.Console.ReadLine();  \n",
    ">   System.Console.WriteLine($\"Your name is {name}\");\n",
    "> ```\n"
   ]
  },
  {
   "cell_type": "markdown",
   "metadata": {},
   "source": [
    "3. อธิบายโปรแกรม\n",
    "\n",
    "บรรทัดที่ 1. พิมพ์ข้อความ \"Hello, I'm 6x03xxxx\" ออกไปยังคอนโซล\n",
    "\n",
    "บรรทัดที่ 2. พิมพ์ข้อความ \"Please enter your name\" ออกไปยังคอนโซล เพื่อขอให้ผู้ใช้ป้อนชื่อ\n",
    "\n",
    "บรรทัดที่ 3. รอรับข้อมูลจากผู้ใช้ผ่านทางคอนโซล โดยเก็บข้อมูลที่ผู้ใช้ป้อนเข้ามาในตัวแปร name\n",
    "\n",
    "บรรทัดที่ 4. พิมพ์ข้อความ \"Your name is {name}\" ออกไปยังคอนโซล โดยแทนที่ {name} ด้วยค่าที่ผู้ใช้ป้อนเข้ามา"
   ]
  },
  {
   "cell_type": "markdown",
   "metadata": {},
   "source": [
    "4. รันโปรแกรม\n",
    "\n",
    "> ```\n",
    ">   dotnet run --project Lab06_Exercise01\n",
    "> ```\n"
   ]
  },
  {
   "cell_type": "markdown",
   "metadata": {},
   "source": [
    "5. การส่งงาน\n",
    "\n",
    "บันทึกภาพหน้าจอโปรแกรม แนบในใบงานนี้"
   ]
  },
  {
   "attachments": {
    "image.png": {
     "image/png": "[encoded data removed]"
    }
   },
   "cell_type": "markdown",
   "metadata": {},
   "source": [
    "![image.png](attachment:image.png)"
   ]
  }
 ],
 "metadata": {
  "kernelspec": {
   "display_name": ".NET (C#)",
   "language": "C#",
   "name": ".net-csharp"
  },
  "polyglot_notebook": {
   "kernelInfo": {
    "defaultKernelName": "csharp",
    "items": [
     {
      "aliases": [],
      "languageName": "csharp",
      "name": "csharp"
     }
    ]
   }
  }
 },
 "nbformat": 4,
 "nbformat_minor": 2
}
